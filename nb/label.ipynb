{
 "cells": [
  {
   "cell_type": "markdown",
   "metadata": {},
   "source": [
    "# Labeling sources with the ZTF Variable Marshal\n",
    "\n",
    "[![Open In Google Colab](https://colab.research.google.com/assets/colab-badge.svg)](https://colab.research.google.com/github/dmitryduev/ztf-variable-marshal/blob/master/nb/label.ipynb)\n",
    "\n",
    "This notebook details the data labeling workflow with the ZTF Variable Marshal (ZVM).\n",
    "\n",
    "In this example, we will use a dataset containing a few recently discovered W Uma-type binary stars.\n",
    "We will connect to the ZVM, create a dedicated program for the dataset, save the sources to the program, add periods, and set labels."
   ]
  },
  {
   "cell_type": "code",
   "execution_count": 1,
   "metadata": {},
   "outputs": [],
   "source": [
    "%%capture\n",
    "!pip install git+https://github.com/dmitryduev/ztf-variable-marshal.git"
   ]
  },
  {
   "cell_type": "code",
   "execution_count": 1,
   "metadata": {},
   "outputs": [],
   "source": [
    "from zvm import zvm\n",
    "import json\n",
    "import pandas as pd\n",
    "import numpy as np\n",
    "from tqdm.auto import tqdm\n",
    "from IPython.core.display import display, HTML, JSON\n",
    "import multiprocessing as mp\n",
    "from multiprocessing.pool import ThreadPool\n",
    "import requests\n",
    "\n",
    "n_cpu = mp.cpu_count()"
   ]
  },
  {
   "cell_type": "markdown",
   "metadata": {},
   "source": [
    "For security, let us store the access credentials in a local json file secrets_zvm.json:"
   ]
  },
  {
   "cell_type": "code",
   "execution_count": 2,
   "metadata": {},
   "outputs": [],
   "source": [
    "secrets = {\n",
    "    \"zvm\": {\n",
    "        \"protocol\": \"https\",\n",
    "        \"host\": \"rico.caltech.edu\",\n",
    "        \"port\": 443,\n",
    "        \"username\": \"<USERNAME>\",\n",
    "        \"password\": \"<PASSWORD>\"\n",
    "    }\n",
    "}\n",
    "\n",
    "# with open('secrets_zvm_rico.json', 'w') as f:\n",
    "#     json.dump(secrets, f)"
   ]
  },
  {
   "cell_type": "markdown",
   "metadata": {},
   "source": [
    "Load the credentials and initialize a zvm object:"
   ]
  },
  {
   "cell_type": "code",
   "execution_count": 3,
   "metadata": {},
   "outputs": [
    {
     "name": "stdout",
     "output_type": "stream",
     "text": [
      "Connection OK: True\n"
     ]
    }
   ],
   "source": [
    "with open('secrets_zvm_rico.json', 'r') as f:\n",
    "    secrets = json.load(f)\n",
    "\n",
    "z = zvm(**secrets['zvm'], verbose=False)\n",
    "print(f'Connection OK: {z.check_connection()}')"
   ]
  },
  {
   "cell_type": "markdown",
   "metadata": {},
   "source": [
    "## Dataset: CMO RC600 W Uma-type binaries\n",
    "\n",
    "The recently discovered W Uma-type binaries come from the new automated [60-cm telescope of the Caucasus Mountain Observatory](http://sai.msu.ru/new_vars/) (Sternberg Astronomical Institute, Lomonosov Moscow State University, Russia). Their telescope is equipped with an Andor iKon-L (DZ936N-BV) 2048x2048 CCD camera and a set of filters (U, B, V, Rc, Ic, g2, r2, i2, Clear). The FoV is 22' by 22'. To search for new variable stars, they used the [VaST](http://scan.sai.msu.ru/vast/) code."
   ]
  },
  {
   "cell_type": "code",
   "execution_count": 4,
   "metadata": {},
   "outputs": [],
   "source": [
    "dataset = [{'ra': '19:11:20.631', 'dec': '+05:06:00.12', 'Gaia_DR2': 4293456085994508800, 'p': 0.31028, 'p_units': 'days'},\n",
    "           {'ra': '19:12:00.636', 'dec': '+05:09:10.63', 'Gaia_DR2': 4293549651886492032, 'p': 0.26425, 'p_units': 'days'},\n",
    "           {'ra': '19:12:05.254', 'dec': '+04:59:52.44', 'Gaia_DR2': 4293403760425690624, 'p': 0.30650, 'p_units': 'days'},\n",
    "           {'ra': '00:38:09.817', 'dec': '+59:04:24.08', 'Gaia_DR2': 425417545760834176, 'p': 0.30650, 'p_units': 'days'},\n",
    "           {'ra': '00:39:44.341', 'dec': '+59:08:48.87', 'Gaia_DR2': 425376966913716992, 'p': 0.29018, 'p_units': 'days'},\n",
    "           {'ra': '00:39:44.487', 'dec': '+59:06:29.91', 'Gaia_DR2': 425375416425590016, 'p': 0.30193, 'p_units': 'days'},\n",
    "           {'ra': '00:39:54.337', 'dec': '+59:01:00.88', 'Gaia_DR2': 425371675514064128, 'p': 0.30800, 'p_units': 'days'},\n",
    "           {'ra': '00:40:23.234', 'dec': '+59:07:10.31', 'Gaia_DR2': 425374115055452416, 'p': 0.32955, 'p_units': 'days'},\n",
    "           {'ra': '00:40:40.830', 'dec': '+59:06:52.52', 'Gaia_DR2': 425373423560788736, 'p': 0.32743, 'p_units': 'days'},\n",
    "           {'ra': '00:40:41.791', 'dec': '+59:09:33.90', 'Gaia_DR2': 425467333025500032, 'p': 0.47833, 'p_units': 'days'}]"
   ]
  },
  {
   "cell_type": "code",
   "execution_count": 5,
   "metadata": {},
   "outputs": [
    {
     "data": {
      "text/html": [
       "<div>\n",
       "<style scoped>\n",
       "    .dataframe tbody tr th:only-of-type {\n",
       "        vertical-align: middle;\n",
       "    }\n",
       "\n",
       "    .dataframe tbody tr th {\n",
       "        vertical-align: top;\n",
       "    }\n",
       "\n",
       "    .dataframe thead th {\n",
       "        text-align: right;\n",
       "    }\n",
       "</style>\n",
       "<table border=\"1\" class=\"dataframe\">\n",
       "  <thead>\n",
       "    <tr style=\"text-align: right;\">\n",
       "      <th></th>\n",
       "      <th>ra</th>\n",
       "      <th>dec</th>\n",
       "      <th>Gaia_DR2</th>\n",
       "      <th>p</th>\n",
       "      <th>p_units</th>\n",
       "    </tr>\n",
       "  </thead>\n",
       "  <tbody>\n",
       "    <tr>\n",
       "      <th>0</th>\n",
       "      <td>19:11:20.631</td>\n",
       "      <td>+05:06:00.12</td>\n",
       "      <td>4293456085994508800</td>\n",
       "      <td>0.31028</td>\n",
       "      <td>days</td>\n",
       "    </tr>\n",
       "    <tr>\n",
       "      <th>1</th>\n",
       "      <td>19:12:00.636</td>\n",
       "      <td>+05:09:10.63</td>\n",
       "      <td>4293549651886492032</td>\n",
       "      <td>0.26425</td>\n",
       "      <td>days</td>\n",
       "    </tr>\n",
       "    <tr>\n",
       "      <th>2</th>\n",
       "      <td>19:12:05.254</td>\n",
       "      <td>+04:59:52.44</td>\n",
       "      <td>4293403760425690624</td>\n",
       "      <td>0.30650</td>\n",
       "      <td>days</td>\n",
       "    </tr>\n",
       "    <tr>\n",
       "      <th>3</th>\n",
       "      <td>00:38:09.817</td>\n",
       "      <td>+59:04:24.08</td>\n",
       "      <td>425417545760834176</td>\n",
       "      <td>0.30650</td>\n",
       "      <td>days</td>\n",
       "    </tr>\n",
       "    <tr>\n",
       "      <th>4</th>\n",
       "      <td>00:39:44.341</td>\n",
       "      <td>+59:08:48.87</td>\n",
       "      <td>425376966913716992</td>\n",
       "      <td>0.29018</td>\n",
       "      <td>days</td>\n",
       "    </tr>\n",
       "    <tr>\n",
       "      <th>5</th>\n",
       "      <td>00:39:44.487</td>\n",
       "      <td>+59:06:29.91</td>\n",
       "      <td>425375416425590016</td>\n",
       "      <td>0.30193</td>\n",
       "      <td>days</td>\n",
       "    </tr>\n",
       "    <tr>\n",
       "      <th>6</th>\n",
       "      <td>00:39:54.337</td>\n",
       "      <td>+59:01:00.88</td>\n",
       "      <td>425371675514064128</td>\n",
       "      <td>0.30800</td>\n",
       "      <td>days</td>\n",
       "    </tr>\n",
       "    <tr>\n",
       "      <th>7</th>\n",
       "      <td>00:40:23.234</td>\n",
       "      <td>+59:07:10.31</td>\n",
       "      <td>425374115055452416</td>\n",
       "      <td>0.32955</td>\n",
       "      <td>days</td>\n",
       "    </tr>\n",
       "    <tr>\n",
       "      <th>8</th>\n",
       "      <td>00:40:40.830</td>\n",
       "      <td>+59:06:52.52</td>\n",
       "      <td>425373423560788736</td>\n",
       "      <td>0.32743</td>\n",
       "      <td>days</td>\n",
       "    </tr>\n",
       "    <tr>\n",
       "      <th>9</th>\n",
       "      <td>00:40:41.791</td>\n",
       "      <td>+59:09:33.90</td>\n",
       "      <td>425467333025500032</td>\n",
       "      <td>0.47833</td>\n",
       "      <td>days</td>\n",
       "    </tr>\n",
       "  </tbody>\n",
       "</table>\n",
       "</div>"
      ],
      "text/plain": [
       "             ra           dec             Gaia_DR2        p p_units\n",
       "0  19:11:20.631  +05:06:00.12  4293456085994508800  0.31028    days\n",
       "1  19:12:00.636  +05:09:10.63  4293549651886492032  0.26425    days\n",
       "2  19:12:05.254  +04:59:52.44  4293403760425690624  0.30650    days\n",
       "3  00:38:09.817  +59:04:24.08   425417545760834176  0.30650    days\n",
       "4  00:39:44.341  +59:08:48.87   425376966913716992  0.29018    days\n",
       "5  00:39:44.487  +59:06:29.91   425375416425590016  0.30193    days\n",
       "6  00:39:54.337  +59:01:00.88   425371675514064128  0.30800    days\n",
       "7  00:40:23.234  +59:07:10.31   425374115055452416  0.32955    days\n",
       "8  00:40:40.830  +59:06:52.52   425373423560788736  0.32743    days\n",
       "9  00:40:41.791  +59:09:33.90   425467333025500032  0.47833    days"
      ]
     },
     "execution_count": 5,
     "metadata": {},
     "output_type": "execute_result"
    }
   ],
   "source": [
    "df = pd.DataFrame.from_records(dataset, columns=['ra', 'dec', 'Gaia_DR2', 'p', 'p_units'])\n",
    "df"
   ]
  },
  {
   "cell_type": "markdown",
   "metadata": {},
   "source": [
    "## Labeling"
   ]
  },
  {
   "cell_type": "markdown",
   "metadata": {},
   "source": [
    "Get programs:"
   ]
  },
  {
   "cell_type": "code",
   "execution_count": 7,
   "metadata": {},
   "outputs": [
    {
     "data": {
      "application/json": [
       {
        "_id": 1,
        "description": "default program",
        "last_modified": "2019-11-19T00:06:04.931000",
        "name": "skipper"
       }
      ],
      "text/plain": [
       "<IPython.core.display.JSON object>"
      ]
     },
     "metadata": {
      "application/json": {
       "expanded": false,
       "root": "root"
      }
     },
     "output_type": "display_data"
    }
   ],
   "source": [
    "r = z.api(endpoint='programs', method='get', data={'format': 'json'})\n",
    "display(JSON(r))"
   ]
  },
  {
   "cell_type": "markdown",
   "metadata": {},
   "source": [
    "Create a new program:"
   ]
  },
  {
   "cell_type": "code",
   "execution_count": 8,
   "metadata": {},
   "outputs": [
    {
     "data": {
      "application/json": {
       "message": "success",
       "result": {
        "_id": 2,
        "description": "10 W Uma binaries discovered with CMO RC600",
        "last_modified": "2019-11-20T23:30:33.566000",
        "name": "W_Uma_CMO_RC600"
       }
      },
      "text/plain": [
       "<IPython.core.display.JSON object>"
      ]
     },
     "metadata": {
      "application/json": {
       "expanded": false,
       "root": "root"
      }
     },
     "output_type": "display_data"
    }
   ],
   "source": [
    "r = z.api(endpoint='programs', method='put', data={'program_name': 'W_Uma_CMO_RC600', \n",
    "                                                   'program_description': '10 W Uma binaries discovered with CMO RC600'})\n",
    "display(JSON(r))"
   ]
  },
  {
   "cell_type": "markdown",
   "metadata": {},
   "source": [
    "We can now save the sources to the newly created `zvm_program_id=2` program automatically pulling all available ZTF light curve data, adding periods, and labels. \n",
    "\n",
    "Note that we will be using the \"random\" source naming scheme instead of the standard incremental alpha-numeric scheme used on the marshal as it is faster and it better handles source name collision avoidance."
   ]
  },
  {
   "cell_type": "code",
   "execution_count": 6,
   "metadata": {},
   "outputs": [],
   "source": [
    "# zvm_program_id = r.get('result', dict()).get('_id', 1)\n",
    "zvm_program_id = 2"
   ]
  },
  {
   "cell_type": "code",
   "execution_count": 8,
   "metadata": {},
   "outputs": [
    {
     "data": {
      "application/vnd.jupyter.widget-view+json": {
       "model_id": "a81d5655d5e049af8d9d037dcf41302e",
       "version_major": 2,
       "version_minor": 0
      },
      "text/plain": [
       "HBox(children=(IntProgress(value=0, max=10), HTML(value='')))"
      ]
     },
     "metadata": {},
     "output_type": "display_data"
    },
    {
     "name": "stdout",
     "output_type": "stream",
     "text": [
      "\n"
     ]
    }
   ],
   "source": [
    "for ir, row in tqdm(df.iterrows(), total=len(df)):\n",
    "    # save source\n",
    "    r = z.api(endpoint='sources', method='put', data={'ra': row.ra, 'dec': row.dec, \n",
    "                                                      'prefix': 'ZTF',\n",
    "                                                      'naming': 'random',\n",
    "                                                      'zvm_program_id': zvm_program_id, \n",
    "                                                      'automerge': True})\n",
    "#     display(JSON(r))\n",
    "    source_id = r['result']['_id']\n",
    "    # set period\n",
    "    r = z.api(endpoint=f'sources/{source_id}', method='post', data={'source_id': source_id,\n",
    "                                                                'action': 'add_period',\n",
    "                                                                'period': row.p,\n",
    "                                                                'period_unit': row.p_units.capitalize()})\n",
    "#     display(JSON(r))\n",
    "    # set label\n",
    "    r = z.api(endpoint=f'sources/{source_id}', method='post', data={'source_id': source_id,\n",
    "                                                                'action': 'set_labels',\n",
    "                                                                'labels': [{'type': 'phenomenological',\n",
    "                                                                            'label': 'variable', \n",
    "                                                                            'value': 1},\n",
    "                                                                           {'type': 'phenomenological',\n",
    "                                                                            'label': 'periodic', \n",
    "                                                                            'value': 1},\n",
    "                                                                           {'type': 'intrinsic',\n",
    "                                                                            'label': 'binary star', \n",
    "                                                                            'value': 1},\n",
    "                                                                           {'type': 'intrinsic',\n",
    "                                                                            'label': 'W Uma', \n",
    "                                                                            'value': 1}]})\n",
    "#     display(JSON(r))\n",
    "#     break"
   ]
  },
  {
   "cell_type": "markdown",
   "metadata": {},
   "source": [
    "### Working with a large number of sources\n",
    "\n",
    "While the simple example above works fine with a relatively small number of sources, let us now write a parallel version of the code for working with a large number of sources."
   ]
  },
  {
   "cell_type": "code",
   "execution_count": 11,
   "metadata": {},
   "outputs": [],
   "source": [
    "def save_source(irow):\n",
    "    i, row = irow\n",
    "    \n",
    "    for ii in range(3):\n",
    "        try:\n",
    "            # save by position\n",
    "            r = z.api(endpoint='sources', method='put', data={'ra': row.ra, 'dec': row.dec, \n",
    "                                                              'prefix': 'ZTF',\n",
    "                                                              'naming': 'random',\n",
    "                                                              'zvm_program_id': zvm_program_id, \n",
    "                                                              'automerge': True})\n",
    "            source_id = r['result']['_id']\n",
    "            # set period\n",
    "            r = z.api(endpoint=f'sources/{source_id}', method='post', data={'source_id': source_id,\n",
    "                                                                        'action': 'add_period',\n",
    "                                                                        'period': row.p,\n",
    "                                                                        'period_unit': row.p_units.capitalize()})\n",
    "            # set label\n",
    "            r = z.api(endpoint=f'sources/{source_id}', method='post', data={'source_id': source_id,\n",
    "                                                                        'action': 'set_labels',\n",
    "                                                                        'labels': [{'type': 'phenomenological',\n",
    "                                                                                    'label': 'variable', \n",
    "                                                                                    'value': 1},\n",
    "                                                                                   {'type': 'phenomenological',\n",
    "                                                                                    'label': 'periodic', \n",
    "                                                                                    'value': 1},\n",
    "                                                                                   {'type': 'intrinsic',\n",
    "                                                                                    'label': 'binary star', \n",
    "                                                                                    'value': 1},\n",
    "                                                                                   {'type': 'intrinsic',\n",
    "                                                                                    'label': 'W Uma', \n",
    "                                                                                    'value': 1}]})\n",
    "            break\n",
    "        except Exception as e:\n",
    "            # print(e)\n",
    "            continue"
   ]
  },
  {
   "cell_type": "markdown",
   "metadata": {},
   "source": [
    "Note: the code below will save the same sources to the program again, assigning new unique identifiers."
   ]
  },
  {
   "cell_type": "code",
   "execution_count": 12,
   "metadata": {},
   "outputs": [
    {
     "data": {
      "application/vnd.jupyter.widget-view+json": {
       "model_id": "146e59991a784b57bfd1ae516da03c25",
       "version_major": 2,
       "version_minor": 0
      },
      "text/plain": [
       "HBox(children=(IntProgress(value=0, max=10), HTML(value='')))"
      ]
     },
     "metadata": {},
     "output_type": "display_data"
    },
    {
     "name": "stdout",
     "output_type": "stream",
     "text": [
      "\n"
     ]
    }
   ],
   "source": [
    "with ThreadPool(processes=np.min((4, n_cpu))) as p:\n",
    "    r = list(tqdm(p.imap(save_source, df.iterrows()), total=len(df)))"
   ]
  },
  {
   "cell_type": "markdown",
   "metadata": {},
   "source": [
    "Note for initiated: do not use `mp.Pool` (a pool of processes) as `python`'s `openssl` library (which is used internally by `zvm`'s client when establishing secure connection with the server) has some issues with it, so the first API calls in the newly started processes fail most of the time."
   ]
  },
  {
   "cell_type": "markdown",
   "metadata": {},
   "source": [
    "### Available classes\n",
    "\n",
    "While the web labeling GUI will take care of label (naming) consistency for you, when doing things programmatically, you should make sure to do the same.\n",
    "\n",
    "In particular, when setting sub classes of the `intrinsic` classification tree, do not forget to also mark the corresponding super classes (for consistency), e.g. `[{'type': 'intrinsic', 'label': 'W Uma', 'value': 1}, {'type': 'intrinsic', 'label': 'binary stars', 'value': 1}]`\n",
    "\n",
    "Here are the currently available labels that the ZVM understands:"
   ]
  },
  {
   "cell_type": "code",
   "execution_count": 13,
   "metadata": {},
   "outputs": [
    {
     "data": {
      "text/plain": [
       "{'phenomenological': ['variable',\n",
       "  'periodic',\n",
       "  'multi periodic',\n",
       "  'long periodic',\n",
       "  'stochastic',\n",
       "  'eclipsing',\n",
       "  'eruptive',\n",
       "  'data artifacts'],\n",
       " 'intrinsic': {'pulsator': ['high amplitude Delta Scu',\n",
       "   'Gamma Dor',\n",
       "   'Cepheid',\n",
       "   {'Cepheid type-II': ['BL Her', 'W Virginis', 'RV Tau']},\n",
       "   {'RR Lyrae': ['RR Lyrae ab',\n",
       "     'RR Lyrae c',\n",
       "     'RR Lyrae d',\n",
       "     'RR Lyrae Blazhko']},\n",
       "   {'WD pulsator': ['DAV (ZZ Ceti)', 'DBV', 'ELMV']},\n",
       "   {'sdB': ['sdBV p-mode', 'sdBV g-mode', 'BLAP', 'high-g BLAP']}],\n",
       "  'binary star': ['W Uma',\n",
       "   'detached eclipsing MS-MS',\n",
       "   'Beta Lyr',\n",
       "   'RS CVn',\n",
       "   {'compact binary': ['eclipsing dWD',\n",
       "     'eclipsing WD+dM (NN Ser)',\n",
       "     'eclipsing sdB+dM (HW Vir)',\n",
       "     'Redback pulsar']}],\n",
       "  'AGN': []}}"
      ]
     },
     "metadata": {},
     "output_type": "display_data"
    }
   ],
   "source": [
    "r = requests.get(url='https://raw.githubusercontent.com/dmitryduev/ztf-variable-marshal/'\n",
    "                 'master/ztf-variable-marshal/config.json')\n",
    "config = r.json()\n",
    "display(config['classifications'])"
   ]
  },
  {
   "cell_type": "markdown",
   "metadata": {},
   "source": [
    "### Querying the ZVM for labels\n",
    "\n",
    "Let us now query the marshal for the labeled data. Grab id's (both marshal's and ZTF_sources') of 5 sources from our `zvm_program_id` that got at least one label. "
   ]
  },
  {
   "cell_type": "code",
   "execution_count": 15,
   "metadata": {},
   "outputs": [
    {
     "data": {
      "application/json": [
       {
        "_id": "ZTF1s67plec",
        "labels": [
         {
          "label": "variable",
          "last_modified": "2019-11-20T23:30:34.001000",
          "type": "phenomenological",
          "user": "admin",
          "value": 1
         },
         {
          "label": "periodic",
          "last_modified": "2019-11-20T23:30:34.001000",
          "type": "phenomenological",
          "user": "admin",
          "value": 1
         },
         {
          "label": "binary stars",
          "last_modified": "2019-11-20T23:30:34.001000",
          "type": "intrinsic",
          "user": "admin",
          "value": 1
         },
         {
          "label": "W Uma",
          "last_modified": "2019-11-20T23:30:34.001000",
          "type": "intrinsic",
          "user": "admin",
          "value": 1
         }
        ],
        "lc": [
         {
          "id": 10488431011177
         },
         {
          "id": 10488432022878
         }
        ]
       },
       {
        "_id": "ZTFj7cpbm0b",
        "labels": [
         {
          "label": "variable",
          "last_modified": "2019-11-20T23:30:34.313000",
          "type": "phenomenological",
          "user": "admin",
          "value": 1
         },
         {
          "label": "periodic",
          "last_modified": "2019-11-20T23:30:34.313000",
          "type": "phenomenological",
          "user": "admin",
          "value": 1
         },
         {
          "label": "binary stars",
          "last_modified": "2019-11-20T23:30:34.313000",
          "type": "intrinsic",
          "user": "admin",
          "value": 1
         },
         {
          "label": "W Uma",
          "last_modified": "2019-11-20T23:30:34.313000",
          "type": "intrinsic",
          "user": "admin",
          "value": 1
         }
        ],
        "lc": [
         {
          "id": 10488432019917
         },
         {
          "id": 10488431028835
         }
        ]
       },
       {
        "_id": "ZTFhsdnj1dl",
        "labels": [
         {
          "label": "variable",
          "last_modified": "2019-11-20T23:30:34.558000",
          "type": "phenomenological",
          "user": "admin",
          "value": 1
         },
         {
          "label": "periodic",
          "last_modified": "2019-11-20T23:30:34.558000",
          "type": "phenomenological",
          "user": "admin",
          "value": 1
         },
         {
          "label": "binary stars",
          "last_modified": "2019-11-20T23:30:34.558000",
          "type": "intrinsic",
          "user": "admin",
          "value": 1
         },
         {
          "label": "W Uma",
          "last_modified": "2019-11-20T23:30:34.558000",
          "type": "intrinsic",
          "user": "admin",
          "value": 1
         }
        ],
        "lc": [
         {
          "id": 10488432028730
         },
         {
          "id": 10488431055117
         }
        ]
       },
       {
        "_id": "ZTFcmigtulz",
        "labels": [
         {
          "label": "variable",
          "last_modified": "2019-11-20T23:30:34.753000",
          "type": "phenomenological",
          "user": "admin",
          "value": 1
         },
         {
          "label": "periodic",
          "last_modified": "2019-11-20T23:30:34.753000",
          "type": "phenomenological",
          "user": "admin",
          "value": 1
         },
         {
          "label": "binary stars",
          "last_modified": "2019-11-20T23:30:34.753000",
          "type": "intrinsic",
          "user": "admin",
          "value": 1
         },
         {
          "label": "W Uma",
          "last_modified": "2019-11-20T23:30:34.753000",
          "type": "intrinsic",
          "user": "admin",
          "value": 1
         }
        ],
        "lc": [
         {
          "id": 10806072004966
         },
         {
          "id": 10806071003381
         }
        ]
       },
       {
        "_id": "ZTFp2kdxlql",
        "labels": [
         {
          "label": "variable",
          "last_modified": "2019-11-20T23:30:35.123000",
          "type": "phenomenological",
          "user": "admin",
          "value": 1
         },
         {
          "label": "periodic",
          "last_modified": "2019-11-20T23:30:35.123000",
          "type": "phenomenological",
          "user": "admin",
          "value": 1
         },
         {
          "label": "binary stars",
          "last_modified": "2019-11-20T23:30:35.123000",
          "type": "intrinsic",
          "user": "admin",
          "value": 1
         },
         {
          "label": "W Uma",
          "last_modified": "2019-11-20T23:30:35.123000",
          "type": "intrinsic",
          "user": "admin",
          "value": 1
         }
        ],
        "lc": [
         {
          "id": 10806072029589
         },
         {
          "id": 10806071019557
         }
        ]
       }
      ],
      "text/plain": [
       "<IPython.core.display.JSON object>"
      ]
     },
     "metadata": {
      "application/json": {
       "expanded": false,
       "root": "root"
      }
     },
     "output_type": "display_data"
    }
   ],
   "source": [
    "q = {\"query_type\": \"find\",\n",
    "     \"query\": {\n",
    "         \"catalog\": \"sources\",\n",
    "         \"filter\": {'zvm_program_id': zvm_program_id, 'labels.0': {'$exists': True}},\n",
    "#          \"filter\": {'_id': 'ZTF4uo925lq'},\n",
    "         \"projection\": {'_id': 1, 'lc.id': 1, 'labels': 1}\n",
    "     },\n",
    "     \"kwargs\": {\n",
    "         \"limit\": 5 \n",
    "     }\n",
    "    }\n",
    "r = z.query(query=q)\n",
    "data = r['result']['result_data']['query_result']\n",
    "# display(JSON(r, expanded=True))\n",
    "display(JSON(data, expanded=False))"
   ]
  },
  {
   "cell_type": "markdown",
   "metadata": {},
   "source": [
    "### Misc\n",
    "\n",
    "- Notes on how things work internally\n",
    "    - I deployed a dedicated \"clean\" instance of the variable marshal for the labeling work not to flood the main ZVM instance on `skipper` with potentially millions of sources, which will likely confuse its users. However, the relevant labelers can use the same access credentials as on the main instance. Note that the code base is exactly the same, so you can label stuff on `skipper` as well if you want/need.\n",
    "    - We represent individual data sets as ZVM programs. Therefore, all sources to be labeled are simply assigned to a program when saving to the marshal. The labeling GUI displays a view of the same database entries of individual sources, the interaction is done via the API."
   ]
  },
  {
   "cell_type": "code",
   "execution_count": null,
   "metadata": {},
   "outputs": [],
   "source": []
  }
 ],
 "metadata": {
  "kernelspec": {
   "display_name": "Python 3",
   "language": "python",
   "name": "python3"
  },
  "language_info": {
   "codemirror_mode": {
    "name": "ipython",
    "version": 3
   },
   "file_extension": ".py",
   "mimetype": "text/x-python",
   "name": "python",
   "nbconvert_exporter": "python",
   "pygments_lexer": "ipython3",
   "version": "3.7.3"
  }
 },
 "nbformat": 4,
 "nbformat_minor": 4
}
